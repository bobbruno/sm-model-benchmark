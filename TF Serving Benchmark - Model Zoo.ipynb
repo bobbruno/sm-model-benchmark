{
 "cells": [
  {
   "cell_type": "markdown",
   "metadata": {},
   "source": [
    "## Libraries to be imported"
   ]
  },
  {
   "cell_type": "code",
   "execution_count": 74,
   "metadata": {},
   "outputs": [],
   "source": [
    "import os\n",
    "import pathlib\n",
    "import tensorflow as tf\n",
    "import numpy as np\n",
    "from PIL import Image\n",
    "from shutil import copytree, rmtree\n",
    "from glob import glob\n",
    "import boto3\n",
    "import tarfile"
   ]
  },
  {
   "cell_type": "code",
   "execution_count": 65,
   "metadata": {},
   "outputs": [],
   "source": [
    "ZOO_BUCKET = 'sagemaker-us-east-1-113147044314'\n",
    "ZOO_DIR = 'tf-model-zoo'"
   ]
  },
  {
   "cell_type": "markdown",
   "metadata": {},
   "source": [
    "## Helper Function to copy [Tensorflow Model Zoo](https://github.com/tensorflow/models) object detection models to S3 for SageMaker deployment\n",
    "\n",
    "SageMaker uses Tensorflow Serving, which requires the model to be in a folder structure like this:\n",
    "\n",
    "```\n",
    "model_dir/\n",
    "  |\n",
    "  +-version/\n",
    "       |\n",
    "       +-variables/\n",
    "       |\n",
    "       +-saved_model.pb\n",
    "```\n",
    "\n",
    "The models available in model zoo object detection are in a tar file, containing a folder structure in the following format:\n",
    "```\n",
    "model_dir/\n",
    "  |\n",
    "  +-<several files>\n",
    "  |\n",
    "  +-saved_model/\n",
    "      |\n",
    "      +-variables/\n",
    "      |\n",
    "      +-saved_model.pb\n",
    "```\n",
    "\n",
    "This functions downloads the tar file from the zoo, unpacks it and takes the `saved_model` directory. It then restructures its content to the format required by Tensorflow Serving."
   ]
  },
  {
   "cell_type": "code",
   "execution_count": 88,
   "metadata": {},
   "outputs": [],
   "source": [
    "def load_model_in_s3(model_name, s3_bucket=ZOO_BUCKET, s3_path=ZOO_DIR):\n",
    "    base_url = 'http://download.tensorflow.org/models/object_detection/'\n",
    "    model_file = model_name + '.tar.gz'\n",
    "    model_dir = tf.keras.utils.get_file(\n",
    "    fname=model_name, \n",
    "    origin=base_url + model_file,\n",
    "    cache_dir='/tmp',\n",
    "    untar=True)\n",
    "\n",
    "    model_dir = pathlib.Path(model_dir)/\"saved_model\"\n",
    "    rmtree(f'/tmp/sm-models/{model_name}', ignore_errors=True)\n",
    "    copytree(model_dir.absolute().as_posix(), f'/tmp/sm-models/{model_name}/1')\n",
    "    cur_dir = os.getcwd()\n",
    "    os.chdir(f'/tmp/sm-models/{model_name}')\n",
    "    with tarfile.open(f\"../{model_name}.tar.gz\", \"w:gz\") as tar:\n",
    "        for name in glob('*'):\n",
    "            tar.add(name)\n",
    "    os.chdir(cur_dir)\n",
    "            \n",
    "    s3 = boto3.client('s3')\n",
    "    s3.upload_file(f\"/tmp/sm-models/{model_name}.tar.gz\", Bucket=s3_bucket, Key=f'{s3_path}/{model_name}/model.tar.gz')\n",
    "    return(f's3://{s3_bucket}/{s3_path}/{model_name}/model.tar.gz')"
   ]
  },
  {
   "cell_type": "markdown",
   "metadata": {},
   "source": [
    "## Helper Functions to Benchmark models on a directory of JPG images"
   ]
  },
  {
   "cell_type": "code",
   "execution_count": 181,
   "metadata": {},
   "outputs": [],
   "source": [
    "bad_images = ['../data/000000001688.jpg',\n",
    "              '../data/000000002240.jpg',\n",
    "              '../data/000000000913.jpg',\n",
    "              '../data/000000004208.jpg',\n",
    "              '../data/000000000078.jpg',\n",
    "              '../data/000000000073.jpg',\n",
    "              '../data/000000002758.jpg',\n",
    "              '../data/000000003947.jpg']"
   ]
  },
  {
   "cell_type": "code",
   "execution_count": 185,
   "metadata": {},
   "outputs": [],
   "source": [
    "def predict_images(model, image_path, max_images=10, skip_images=None):\n",
    "    if skip_images is None:\n",
    "        skip_images = []\n",
    "    images = [(im_file, np.array(Image.open(im_file))) for im_file in glob(f'{image_path}/*.jpg')[:max_images] if im_file not in skip_images]\n",
    "    result = [(imfile, predict_image(model, image)) for imfile, image in images]\n",
    "    print([imfile for imfile, output in result if len(output) == 0])\n",
    "    return(result)\n",
    "\n",
    "def predict_image(model, image):\n",
    "    input_dict = {'instances': [image.tolist()]}\n",
    "    try:\n",
    "        output_dict = model.predict(input_dict)    \n",
    "    except Exception as e:\n",
    "        output_dict = {}\n",
    "        print(e)\n",
    "    return output_dict"
   ]
  },
  {
   "cell_type": "markdown",
   "metadata": {},
   "source": [
    "## Deploying a Model to SageMaker Tensorflow Serving\n",
    "\n",
    "Once deployed, the model expects a request with the following `body` structure:\n",
    "```\n",
    "input = {\n",
    "  'instances': [nested json list with all dimensions]\n",
    "}\n",
    "```\n",
    "\n",
    "This nested structured can be obtained by converting an array to a list object, for instance using the `numpy.ndarray.tolist()` method. The response is a JSON structure like this:\n",
    "```\n",
    "{\n",
    "  'predictions': [{'<prediction one>': [nested json array]}, {...},...]\n",
    "}\n",
    "```"
   ]
  },
  {
   "cell_type": "code",
   "execution_count": null,
   "metadata": {},
   "outputs": [
    {
     "name": "stdout",
     "output_type": "stream",
     "text": [
      "----"
     ]
    }
   ],
   "source": [
    "from sagemaker.tensorflow.serving import Model\n",
    "from sagemaker import get_execution_role\n",
    "import logging\n",
    "\n",
    "role = get_execution_role()\n",
    "sm_model = load_model_in_s3('faster_rcnn_resnet50_coco_2018_01_28')\n",
    "model = Model(model_data=sm_model, \n",
    "              role=role,\n",
    "              framework_version='2.1.0')\n",
    "predictor = model.deploy(initial_instance_count=1, instance_type='ml.p2.xlarge')"
   ]
  },
  {
   "cell_type": "markdown",
   "metadata": {},
   "source": [
    "Sanity Check on the prediction endpoint"
   ]
  },
  {
   "cell_type": "code",
   "execution_count": null,
   "metadata": {},
   "outputs": [],
   "source": [
    "x = np.array(Image.open('../data/000000004042.jpg'))\n",
    "x.shape"
   ]
  },
  {
   "cell_type": "code",
   "execution_count": null,
   "metadata": {},
   "outputs": [],
   "source": [
    "predictor.predict({'instances':[x.tolist()]})"
   ]
  },
  {
   "cell_type": "markdown",
   "metadata": {},
   "source": [
    "## Benchmark on the Prediction time for 100 images (images are from the COCO 2017 Validation Dataset)"
   ]
  },
  {
   "cell_type": "code",
   "execution_count": null,
   "metadata": {},
   "outputs": [],
   "source": [
    "%timeit predict_images(predictor, '../data', max_images=100, skip_images=bad_images)"
   ]
  },
  {
   "cell_type": "markdown",
   "metadata": {},
   "source": [
    "## Deleting the Endpoint to save resources"
   ]
  },
  {
   "cell_type": "code",
   "execution_count": 199,
   "metadata": {},
   "outputs": [],
   "source": [
    "predictor.delete_endpoint()"
   ]
  }
 ],
 "metadata": {
  "kernelspec": {
   "display_name": "conda_tensorflow_p36",
   "language": "python",
   "name": "conda_tensorflow_p36"
  },
  "language_info": {
   "codemirror_mode": {
    "name": "ipython",
    "version": 3
   },
   "file_extension": ".py",
   "mimetype": "text/x-python",
   "name": "python",
   "nbconvert_exporter": "python",
   "pygments_lexer": "ipython3",
   "version": "3.6.6"
  }
 },
 "nbformat": 4,
 "nbformat_minor": 4
}
